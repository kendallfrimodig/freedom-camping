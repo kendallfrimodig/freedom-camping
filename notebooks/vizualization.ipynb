{
 "cells": [
  {
   "cell_type": "markdown",
   "id": "2b73e200-1f18-4736-bce4-0a457d302286",
   "metadata": {},
   "source": [
    "\n",
    "# Visualization\n",
    "---"
   ]
  },
  {
   "cell_type": "markdown",
   "id": "ca9a881a-8c5e-4fb4-bd54-d4136b7fc8ac",
   "metadata": {},
   "source": [
    "### Area of Interest, and known camping sites\n",
    "\n",
    "To my suprise it is permitted to camp on **any** US forest service road listed as public, in the motor vehicle use maps. This is regulated on a national forest basis, and many others only designate a few roads (though more than publicly listed on recereation websites)\n",
    "\n",
    "This makes Chaffee County a good candiate for the analysis, as there are an abundant amount of pre-defined campsites available (10) from free camping.com, so that labels can easily be created. The road network is far more extensive however, so ultimately the model should be able to identify a much higher degree of defined car-camping sites in the counties abundant national forest"
   ]
  },
  {
   "cell_type": "code",
   "execution_count": 1,
   "id": "465e4dc3-95dc-449b-9687-b6484a9935f3",
   "metadata": {},
   "outputs": [],
   "source": [
    "import pandas as pd\n",
    "import numpy as np\n",
    "import requests\n",
    "from IPython.display import GeoJSON\n",
    "import ipyleaflet as L\n",
    "from ipyleaflet import (\n",
    "    Map,\n",
    "    Marker,\n",
    "    TileLayer,\n",
    "    ImageOverlay,\n",
    "    Polyline,\n",
    "    Polygon,\n",
    "    Rectangle,\n",
    "    Circle,\n",
    "    CircleMarker,\n",
    "    GeoJSON,\n",
    "    DrawControl,\n",
    "    LayersControl,\n",
    "    basemaps,\n",
    "    basemap_to_tiles,\n",
    "    FullScreenControl\n",
    ")\n",
    "from ipywidgets import Layout\n",
    "import geojson as gs\n",
    "import os"
   ]
  },
  {
   "cell_type": "markdown",
   "id": "847268d9-7f31-43eb-a09f-8548d434c6cf",
   "metadata": {},
   "source": [
    "Reading in remote GeoJSON, and importing local Files"
   ]
  },
  {
   "cell_type": "code",
   "execution_count": 2,
   "id": "ff1d3d41-5181-4c25-9b94-0bc49f2f8a02",
   "metadata": {},
   "outputs": [],
   "source": [
    "url = \"https://raw.githubusercontent.com/johan/world.geo.json/master/countries/USA/CO/Chaffee.geo.json\"\n",
    "\n",
    "cnty = requests.get(url).json()"
   ]
  },
  {
   "cell_type": "code",
   "execution_count": 3,
   "id": "3405a8ab-7743-4874-aaf0-09b09789b5ae",
   "metadata": {},
   "outputs": [],
   "source": [
    "# https://stackoverflow.com/questions/42753745/how-can-i-parse-geojson-with-python\n",
    "def loadgeo(path):\n",
    "    with open(path) as f:\n",
    "        gj = gs.load(f)\n",
    "    features = gj['features'][0]\n",
    "    return features\n",
    "\n",
    "aoi = loadgeo(\"../data/Polygon/aoi.geojson\")\n",
    "\n",
    "with open(\"../data/Polygon/labels.geojson\") as f:\n",
    "    labels = gs.load(f)"
   ]
  },
  {
   "cell_type": "markdown",
   "id": "5dd5c3db-8dcb-419b-be47-53e0e40c21b5",
   "metadata": {},
   "source": [
    "Geojson decodes and reads files, while GJson activates them as leaflet capable layers"
   ]
  },
  {
   "cell_type": "code",
   "execution_count": 4,
   "id": "7eb5b220-a740-4a1b-b4a9-5676abb0b7c4",
   "metadata": {
    "tags": []
   },
   "outputs": [],
   "source": [
    "def geojson_format(infile, color, trans1, trans2, linestyle, weight):\n",
    "    newlayer = GeoJSON(data = infile,\n",
    "                        style = {'color': color, 'opacity': trans1, 'dashArray': linestyle, 'fillOpacity': trans2, 'weight': weight},\n",
    "                        layer_options = {\"tms\": True}\n",
    "                        #hover_style = {'color': 'white', 'dashArray': '0', 'fillOpacity': 0.5}\n",
    "                      )\n",
    "    return newlayer"
   ]
  },
  {
   "cell_type": "code",
   "execution_count": 5,
   "id": "6ec7fd0c-6061-4239-add5-aa57619429a6",
   "metadata": {
    "tags": []
   },
   "outputs": [],
   "source": [
    "#geojson_format(infile, minzoom, maxzoom, trans1, trans2, weight)\n",
    "\n",
    "cnty = geojson_format(cnty, 'black', 1, 0, '1', 6)\n",
    "\n",
    "\n",
    "aoi =geojson_format(aoi, 'lightgreen', 0.8, 0.2, '2', 2)\n",
    "\n",
    "\n",
    "#usfs_roads =geojson_format(usfs_roads, 'green', 1, 0, '1', 2)\n",
    "\n",
    "\n",
    "labels = geojson_format(labels, 'red', 1, 0, '1', 4)"
   ]
  },
  {
   "cell_type": "markdown",
   "id": "b52a8459-c7a5-4edb-b16a-709da79471d1",
   "metadata": {},
   "source": [
    "Calculate center of map with county polygon coordinates"
   ]
  },
  {
   "cell_type": "code",
   "execution_count": 6,
   "id": "ad74b878-d93b-4aa8-8547-7338a470ea32",
   "metadata": {},
   "outputs": [],
   "source": [
    "cnty_coords = cnty.data['features'][0]['geometry']['coordinates'][0][0]\n",
    "\n",
    "x = [coord[0] for coord in cnty_coords]\n",
    "y = [coord[1] for coord in cnty_coords]\n",
    "\n",
    "cnty_center = (np.mean(y), np.mean(x))\n",
    "\n",
    "center = cnty_center\n",
    "\n",
    "zoom = 10\n",
    "\n",
    "leaflet = Map(center = center, \n",
    "              zoom = zoom,\n",
    "                 layout=Layout(width='100%', height='800px'),\n",
    "                  scroll_wheel_zoom=True)"
   ]
  },
  {
   "cell_type": "code",
   "execution_count": 7,
   "id": "8c4d4735-e985-4d7b-acea-799e8ebd4a40",
   "metadata": {
    "tags": []
   },
   "outputs": [],
   "source": [
    "leaflet.add_layer(cnty)\n",
    "leaflet.add_layer(aoi)\n",
    "leaflet.add_layer(labels)"
   ]
  },
  {
   "cell_type": "markdown",
   "id": "5b2f3e43-f7f7-4c96-9d6f-92bfdfc97d32",
   "metadata": {
    "tags": []
   },
   "source": [
    "Add Custom Sattelite Basemap and Save Map as Standalone html page\n",
    "\n",
    "- the output map is too large to commit to repo\n",
    "- will be pushed as seperate repo and activated via github pages"
   ]
  },
  {
   "cell_type": "code",
   "execution_count": 9,
   "id": "c24d99b5-bc02-48c4-a76e-2bf3b5e05237",
   "metadata": {},
   "outputs": [],
   "source": [
    "basemap1 = basemap_to_tiles(basemaps.Esri.WorldImagery)\n",
    "leaflet.add_layer(basemap1)"
   ]
  },
  {
   "cell_type": "code",
   "execution_count": 10,
   "id": "256032a1-c0eb-40bb-8f49-53a3e6c5d19b",
   "metadata": {},
   "outputs": [],
   "source": [
    "leaflet.add_control(FullScreenControl())"
   ]
  },
  {
   "cell_type": "markdown",
   "id": "e01bbfa7-70e9-4c10-85cb-093bf19a6947",
   "metadata": {},
   "source": [
    "#### Area of Interest"
   ]
  },
  {
   "cell_type": "code",
   "execution_count": 12,
   "id": "0ef97978-b131-47bc-9974-8cbb953c2956",
   "metadata": {},
   "outputs": [],
   "source": [
    "leaflet.save('../output/index.html', title='capstone-map')"
   ]
  }
 ],
 "metadata": {
  "kernelspec": {
   "display_name": "Python 3 (ipykernel)",
   "language": "python",
   "name": "python3"
  },
  "language_info": {
   "codemirror_mode": {
    "name": "ipython",
    "version": 3
   },
   "file_extension": ".py",
   "mimetype": "text/x-python",
   "name": "python",
   "nbconvert_exporter": "python",
   "pygments_lexer": "ipython3",
   "version": "3.9.7"
  }
 },
 "nbformat": 4,
 "nbformat_minor": 5
}
