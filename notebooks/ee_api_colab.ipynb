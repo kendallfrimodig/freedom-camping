{
 "cells": [
  {
   "cell_type": "markdown",
   "metadata": {
    "id": "kvD6gbGBfIfb"
   },
   "source": [
    "- Project Id: ga-capstone-341005\n",
    "- Project Number: 686873818286\n",
    "- Project bucket: kendallfrimodig-earth-engine\n",
    "- Bucket Folders\n",
    "  - NAIP_infared\n",
    "  - NAIP_natural\n",
    "  - Polygon\n"
   ]
  },
  {
   "cell_type": "code",
   "execution_count": null,
   "metadata": {
    "colab": {
     "base_uri": "https://localhost:8080/"
    },
    "id": "FftR-YKNl9Kl",
    "outputId": "42fe762a-f029-4939-fb6a-18048408ae92"
   },
   "outputs": [
    {
     "name": "stdout",
     "output_type": "stream",
     "text": [
      "Reading package lists...\n",
      "Building dependency tree...\n",
      "Reading state information...\n",
      "gdal-bin is already the newest version (2.2.3+dfsg-2).\n",
      "python-gdal is already the newest version (2.2.3+dfsg-2).\n",
      "The following package was automatically installed and is no longer required:\n",
      "  libnvidia-common-470\n",
      "Use 'apt autoremove' to remove it.\n",
      "The following additional packages will be installed:\n",
      "  python3-numpy\n",
      "Suggested packages:\n",
      "  python-numpy-doc python3-nose python3-numpy-dbg\n",
      "The following NEW packages will be installed:\n",
      "  python3-gdal python3-numpy\n",
      "0 upgraded, 2 newly installed, 0 to remove and 39 not upgraded.\n",
      "Need to get 2,288 kB of archives.\n",
      "After this operation, 13.2 MB of additional disk space will be used.\n",
      "Get:1 http://archive.ubuntu.com/ubuntu bionic/main amd64 python3-numpy amd64 1:1.13.3-2ubuntu1 [1,943 kB]\n",
      "Get:2 http://archive.ubuntu.com/ubuntu bionic/universe amd64 python3-gdal amd64 2.2.3+dfsg-2 [346 kB]\n",
      "Fetched 2,288 kB in 2s (952 kB/s)\n",
      "Selecting previously unselected package python3-numpy.\n",
      "(Reading database ... 155320 files and directories currently installed.)\n",
      "Preparing to unpack .../python3-numpy_1%3a1.13.3-2ubuntu1_amd64.deb ...\n",
      "Unpacking python3-numpy (1:1.13.3-2ubuntu1) ...\n",
      "Selecting previously unselected package python3-gdal.\n",
      "Preparing to unpack .../python3-gdal_2.2.3+dfsg-2_amd64.deb ...\n",
      "Unpacking python3-gdal (2.2.3+dfsg-2) ...\n",
      "Setting up python3-numpy (1:1.13.3-2ubuntu1) ...\n",
      "Setting up python3-gdal (2.2.3+dfsg-2) ...\n",
      "Processing triggers for man-db (2.8.3-2ubuntu0.1) ...\n",
      "Reading package lists...\n",
      "Building dependency tree...\n",
      "Reading state information...\n",
      "The following package was automatically installed and is no longer required:\n",
      "  libnvidia-common-470\n",
      "Use 'apt autoremove' to remove it.\n",
      "The following additional packages will be installed:\n",
      "  libspatialindex-c4v5 libspatialindex-dev libspatialindex4v5\n",
      "  python3-pkg-resources\n",
      "Suggested packages:\n",
      "  python3-setuptools\n",
      "The following NEW packages will be installed:\n",
      "  libspatialindex-c4v5 libspatialindex-dev libspatialindex4v5\n",
      "  python3-pkg-resources python3-rtree\n",
      "0 upgraded, 5 newly installed, 0 to remove and 39 not upgraded.\n",
      "Need to get 671 kB of archives.\n",
      "After this operation, 3,948 kB of additional disk space will be used.\n",
      "Get:1 http://archive.ubuntu.com/ubuntu bionic/universe amd64 libspatialindex4v5 amd64 1.8.5-5 [219 kB]\n",
      "Get:2 http://archive.ubuntu.com/ubuntu bionic/universe amd64 libspatialindex-c4v5 amd64 1.8.5-5 [51.7 kB]\n",
      "Get:3 http://archive.ubuntu.com/ubuntu bionic/main amd64 python3-pkg-resources all 39.0.1-2 [98.8 kB]\n",
      "Get:4 http://archive.ubuntu.com/ubuntu bionic/universe amd64 libspatialindex-dev amd64 1.8.5-5 [285 kB]\n",
      "Get:5 http://archive.ubuntu.com/ubuntu bionic/universe amd64 python3-rtree all 0.8.3+ds-1 [16.9 kB]\n",
      "Fetched 671 kB in 2s (330 kB/s)\n",
      "Selecting previously unselected package libspatialindex4v5:amd64.\n",
      "(Reading database ... 155730 files and directories currently installed.)\n",
      "Preparing to unpack .../libspatialindex4v5_1.8.5-5_amd64.deb ...\n",
      "Unpacking libspatialindex4v5:amd64 (1.8.5-5) ...\n",
      "Selecting previously unselected package libspatialindex-c4v5:amd64.\n",
      "Preparing to unpack .../libspatialindex-c4v5_1.8.5-5_amd64.deb ...\n",
      "Unpacking libspatialindex-c4v5:amd64 (1.8.5-5) ...\n",
      "Selecting previously unselected package python3-pkg-resources.\n",
      "Preparing to unpack .../python3-pkg-resources_39.0.1-2_all.deb ...\n",
      "Unpacking python3-pkg-resources (39.0.1-2) ...\n",
      "Selecting previously unselected package libspatialindex-dev:amd64.\n",
      "Preparing to unpack .../libspatialindex-dev_1.8.5-5_amd64.deb ...\n",
      "Unpacking libspatialindex-dev:amd64 (1.8.5-5) ...\n",
      "Selecting previously unselected package python3-rtree.\n",
      "Preparing to unpack .../python3-rtree_0.8.3+ds-1_all.deb ...\n",
      "Unpacking python3-rtree (0.8.3+ds-1) ...\n",
      "Setting up libspatialindex4v5:amd64 (1.8.5-5) ...\n",
      "Setting up python3-pkg-resources (39.0.1-2) ...\n",
      "Setting up libspatialindex-c4v5:amd64 (1.8.5-5) ...\n",
      "Setting up libspatialindex-dev:amd64 (1.8.5-5) ...\n",
      "Setting up python3-rtree (0.8.3+ds-1) ...\n",
      "Processing triggers for libc-bin (2.27-3ubuntu1.3) ...\n",
      "/sbin/ldconfig.real: /usr/local/lib/python3.7/dist-packages/ideep4py/lib/libmkldnn.so.0 is not a symbolic link\n",
      "\n",
      "\u001b[K     |████████████████████████████████| 16.7 MB 4.3 MB/s \n",
      "\u001b[K     |████████████████████████████████| 6.3 MB 36.0 MB/s \n",
      "\u001b[?25h  Building wheel for geopandas (setup.py) ... \u001b[?25l\u001b[?25hdone\n",
      "Requirement already satisfied: folium in /usr/local/lib/python3.7/dist-packages (0.8.3)\n",
      "Requirement already satisfied: jinja2 in /usr/local/lib/python3.7/dist-packages (from folium) (2.11.3)\n",
      "Requirement already satisfied: six in /usr/local/lib/python3.7/dist-packages (from folium) (1.15.0)\n",
      "Requirement already satisfied: requests in /usr/local/lib/python3.7/dist-packages (from folium) (2.23.0)\n",
      "Requirement already satisfied: branca>=0.3.0 in /usr/local/lib/python3.7/dist-packages (from folium) (0.4.2)\n",
      "Requirement already satisfied: numpy in /usr/local/lib/python3.7/dist-packages (from folium) (1.21.5)\n",
      "Requirement already satisfied: MarkupSafe>=0.23 in /usr/local/lib/python3.7/dist-packages (from jinja2->folium) (2.0.1)\n",
      "Requirement already satisfied: chardet<4,>=3.0.2 in /usr/local/lib/python3.7/dist-packages (from requests->folium) (3.0.4)\n",
      "Requirement already satisfied: idna<3,>=2.5 in /usr/local/lib/python3.7/dist-packages (from requests->folium) (2.10)\n",
      "Requirement already satisfied: certifi>=2017.4.17 in /usr/local/lib/python3.7/dist-packages (from requests->folium) (2021.10.8)\n",
      "Requirement already satisfied: urllib3!=1.25.0,!=1.25.1,<1.26,>=1.21.1 in /usr/local/lib/python3.7/dist-packages (from requests->folium) (1.24.3)\n",
      "Collecting Rasterio\n",
      "  Downloading rasterio-1.2.10-cp37-cp37m-manylinux1_x86_64.whl (19.3 MB)\n",
      "\u001b[K     |████████████████████████████████| 19.3 MB 1.3 MB/s \n",
      "\u001b[?25hCollecting snuggs>=1.4.1\n",
      "  Downloading snuggs-1.4.7-py3-none-any.whl (5.4 kB)\n",
      "Requirement already satisfied: setuptools in /usr/local/lib/python3.7/dist-packages (from Rasterio) (57.4.0)\n",
      "Requirement already satisfied: numpy in /usr/local/lib/python3.7/dist-packages (from Rasterio) (1.21.5)\n",
      "Requirement already satisfied: cligj>=0.5 in /usr/local/lib/python3.7/dist-packages (from Rasterio) (0.7.2)\n",
      "Requirement already satisfied: click>=4.0 in /usr/local/lib/python3.7/dist-packages (from Rasterio) (7.1.2)\n",
      "Collecting affine\n",
      "  Downloading affine-2.3.0-py2.py3-none-any.whl (15 kB)\n",
      "Requirement already satisfied: click-plugins in /usr/local/lib/python3.7/dist-packages (from Rasterio) (1.1.1)\n",
      "Requirement already satisfied: attrs in /usr/local/lib/python3.7/dist-packages (from Rasterio) (21.4.0)\n",
      "Requirement already satisfied: certifi in /usr/local/lib/python3.7/dist-packages (from Rasterio) (2021.10.8)\n",
      "Requirement already satisfied: pyparsing>=2.1.6 in /usr/local/lib/python3.7/dist-packages (from snuggs>=1.4.1->Rasterio) (3.0.7)\n",
      "Installing collected packages: snuggs, affine, Rasterio\n",
      "Successfully installed Rasterio-1.2.10 affine-2.3.0 snuggs-1.4.7\n",
      "\u001b[K     |████████████████████████████████| 209 kB 4.1 MB/s \n",
      "\u001b[K     |████████████████████████████████| 243 kB 45.2 MB/s \n",
      "\u001b[K     |████████████████████████████████| 95 kB 4.1 MB/s \n",
      "\u001b[K     |████████████████████████████████| 164 kB 53.7 MB/s \n",
      "\u001b[K     |████████████████████████████████| 55 kB 3.6 MB/s \n",
      "\u001b[K     |████████████████████████████████| 81 kB 9.4 MB/s \n",
      "\u001b[K     |████████████████████████████████| 46 kB 3.9 MB/s \n",
      "\u001b[K     |████████████████████████████████| 60 kB 7.6 MB/s \n",
      "\u001b[K     |████████████████████████████████| 41 kB 680 kB/s \n",
      "\u001b[K     |████████████████████████████████| 5.7 MB 22.8 MB/s \n",
      "\u001b[K     |████████████████████████████████| 2.4 MB 39.5 MB/s \n",
      "\u001b[K     |████████████████████████████████| 269 kB 57.5 MB/s \n",
      "\u001b[K     |████████████████████████████████| 2.1 MB 35.0 MB/s \n",
      "\u001b[K     |████████████████████████████████| 66.6 MB 106 kB/s \n",
      "\u001b[K     |████████████████████████████████| 78 kB 7.3 MB/s \n",
      "\u001b[K     |████████████████████████████████| 183 kB 53.1 MB/s \n",
      "\u001b[K     |████████████████████████████████| 14.2 MB 34.0 MB/s \n",
      "\u001b[K     |████████████████████████████████| 596 kB 54.7 MB/s \n",
      "\u001b[K     |████████████████████████████████| 132 kB 52.5 MB/s \n",
      "\u001b[K     |████████████████████████████████| 79 kB 7.0 MB/s \n",
      "\u001b[K     |████████████████████████████████| 8.6 MB 35.7 MB/s \n",
      "\u001b[K     |████████████████████████████████| 138 kB 56.8 MB/s \n",
      "\u001b[K     |████████████████████████████████| 127 kB 50.8 MB/s \n",
      "\u001b[K     |████████████████████████████████| 130 kB 50.5 MB/s \n",
      "\u001b[?25h  Building wheel for esda (setup.py) ... \u001b[?25l\u001b[?25hdone\n",
      "  Building wheel for inequality (setup.py) ... \u001b[?25l\u001b[?25hdone\n",
      "  Building wheel for mgwr (setup.py) ... \u001b[?25l\u001b[?25hdone\n",
      "  Building wheel for pointpats (setup.py) ... \u001b[?25l\u001b[?25hdone\n",
      "  Building wheel for rvlib (setup.py) ... \u001b[?25l\u001b[?25hdone\n",
      "  Building wheel for spglm (setup.py) ... \u001b[?25l\u001b[?25hdone\n",
      "  Building wheel for spint (setup.py) ... \u001b[?25l\u001b[?25hdone\n",
      "  Building wheel for splot (setup.py) ... \u001b[?25l\u001b[?25hdone\n",
      "  Building wheel for spvcm (setup.py) ... \u001b[?25l\u001b[?25hdone\n",
      "\u001b[31mERROR: pip's dependency resolver does not currently take into account all the packages that are installed. This behaviour is the source of the following dependency conflicts.\n",
      "datascience 0.10.6 requires folium==0.2.1, but you have folium 0.8.3 which is incompatible.\u001b[0m\n"
     ]
    }
   ],
   "source": [
    "# Install GDAL and Geopandas\n",
    "!apt install gdal-bin python-gdal python3-gdal --quiet\n",
    "!apt install python3-rtree --quiet\n",
    "!pip install git+git://github.com/geopandas/geopandas.git --quiet\n",
    "!pip install descartes --quiet\n",
    "\n",
    "# Folium \n",
    "!pip install folium\n",
    "\n",
    "# Rasterio\n",
    "!pip install Rasterio\n",
    "\n",
    "# Install Pysal - Spatial Statistics\n",
    "!pip install pysal --quiet\n",
    "!pip install splot --quiet"
   ]
  },
  {
   "cell_type": "markdown",
   "metadata": {
    "id": "NpLaiHleoaeC"
   },
   "source": [
    "# Housekeeping\n",
    "\n"
   ]
  },
  {
   "cell_type": "markdown",
   "metadata": {
    "id": "4NjwVOtsofjQ"
   },
   "source": [
    "## Libraries"
   ]
  },
  {
   "cell_type": "code",
   "execution_count": null,
   "metadata": {
    "colab": {
     "base_uri": "https://localhost:8080/"
    },
    "id": "65RChERMzQHZ",
    "outputId": "07fe024f-6aa1-4815-c234-ea738ec78623"
   },
   "outputs": [
    {
     "name": "stderr",
     "output_type": "stream",
     "text": [
      "/usr/local/lib/python3.7/dist-packages/geopandas/_compat.py:115: UserWarning: The Shapely GEOS version (3.10.2-CAPI-1.16.0) is incompatible with the GEOS version PyGEOS was compiled with (3.10.1-CAPI-1.16.0). Conversions between both will be slow.\n",
      "  shapely_geos_version, geos_capi_version_string\n",
      "/usr/local/lib/python3.7/dist-packages/numba/np/ufunc/parallel.py:363: NumbaWarning: The TBB threading layer requires TBB version 2019.5 or later i.e., TBB_INTERFACE_VERSION >= 11005. Found TBB_INTERFACE_VERSION = 9107. The TBB threading layer is disabled.\n",
      "  warnings.warn(problem)\n",
      "/usr/local/lib/python3.7/dist-packages/spaghetti/network.py:36: FutureWarning: The next major release of pysal/spaghetti (2.0.0) will drop support for all ``libpysal.cg`` geometries. This change is a first step in refactoring ``spaghetti`` that is expected to result in dramatically reduced runtimes for network instantiation and operations. Users currently requiring network and point pattern input as ``libpysal.cg`` geometries should prepare for this simply by converting to ``shapely`` geometries.\n",
      "  warnings.warn(f\"{dep_msg}\", FutureWarning)\n"
     ]
    }
   ],
   "source": [
    "#pip install ipyleaflet GeoJSON\n",
    "# import Earth Engine API and Cloud Storage API\n",
    "import ee\n",
    "from google.colab import auth\n",
    "from googleapiclient.discovery import build\n",
    "from apiclient.http import MediaIoBaseDownload\n",
    "from googleapiclient.http import MediaFileUpload\n",
    "\n",
    "# Data and Viz Libraries\n",
    "import pandas as pd\n",
    "import requests\n",
    "#from IPython.display import GeoJSON\n",
    "\n",
    "\n",
    "import geopandas as gpd\n",
    "from shapely.geometry import Point\n",
    "import matplotlib.pyplot as plt\n",
    "\n",
    "from osgeo import gdal\n",
    "import folium\n",
    "import rasterio as rio\n",
    "\n",
    "import pysal\n",
    "from pysal.lib  import weights\n",
    "from pysal.explore import  esda\n",
    "from esda.moran import Moran, Moran_Local\n",
    "import splot\n",
    "from splot.esda import moran_scatterplot, plot_moran, lisa_cluster\n",
    "\n",
    "import urllib\n",
    "import io\n",
    "import numpy as np\n",
    "\n",
    "import time"
   ]
  },
  {
   "cell_type": "markdown",
   "metadata": {
    "id": "2FKEV8u_ozx_"
   },
   "source": []
  },
  {
   "cell_type": "code",
   "execution_count": null,
   "metadata": {
    "colab": {
     "base_uri": "https://localhost:8080/"
    },
    "id": "NMp9Ei9b0XXL",
    "outputId": "2866ece1-7fbc-4e1b-aca9-e91fbdbb52a7"
   },
   "outputs": [
    {
     "name": "stdout",
     "output_type": "stream",
     "text": [
      "To authorize access needed by Earth Engine, open the following URL in a web browser and follow the instructions. If the web browser does not start automatically, please manually browse the URL below.\n",
      "\n",
      "    https://accounts.google.com/o/oauth2/auth?client_id=517222506229-vsmmajv00ul0bs7p89v5m89qs8eb9359.apps.googleusercontent.com&scope=https%3A%2F%2Fwww.googleapis.com%2Fauth%2Fearthengine+https%3A%2F%2Fwww.googleapis.com%2Fauth%2Fdevstorage.full_control&redirect_uri=urn%3Aietf%3Awg%3Aoauth%3A2.0%3Aoob&response_type=code&code_challenge=MHC7i3T3lA6HXe1v6PQsUqJkYjCUb1cgSByV5FPGqsk&code_challenge_method=S256\n",
      "\n",
      "The authorization workflow will generate a code, which you should paste in the box below. \n",
      "Enter verification code: 4/1AX4XfWgLB38fFyhgY5gVf8dubXdi0KKsZl-PbS-tqkBDz9dHDCVDy-5a3Ts\n",
      "\n",
      "Successfully saved authorization token.\n"
     ]
    }
   ],
   "source": [
    "# Trigger the authentication flow (Earth Engine).\n",
    "ee.Authenticate()\n",
    "\n",
    "# Initialize Earth Engine.\n",
    "ee.Initialize()"
   ]
  },
  {
   "cell_type": "code",
   "execution_count": null,
   "metadata": {
    "id": "-1SDdOhogI1q"
   },
   "outputs": [],
   "source": [
    "# Global Cloud Variables and Authenticate GCS\n",
    "#auth.authenticate_user()\n",
    "project_id = 'ga-capstone-341005'\n",
    "bucketname = 'kendallfrimodig-earth-engine'\n",
    "# Initialize Google Cloud Storage\n",
    "#gcs_service = build('storage', 'v1')"
   ]
  },
  {
   "cell_type": "code",
   "execution_count": null,
   "metadata": {
    "colab": {
     "base_uri": "https://localhost:8080/"
    },
    "id": "G8wU5W7IBZGp",
    "outputId": "3f1f27b0-4153-43c4-88ba-3f6e8c17015e"
   },
   "outputs": [
    {
     "name": "stdout",
     "output_type": "stream",
     "text": [
      "Go to the following link in your browser:\n",
      "\n",
      "    https://accounts.google.com/o/oauth2/auth?response_type=code&client_id=32555940559.apps.googleusercontent.com&redirect_uri=urn%3Aietf%3Awg%3Aoauth%3A2.0%3Aoob&scope=openid+https%3A%2F%2Fwww.googleapis.com%2Fauth%2Fuserinfo.email+https%3A%2F%2Fwww.googleapis.com%2Fauth%2Fcloud-platform+https%3A%2F%2Fwww.googleapis.com%2Fauth%2Fappengine.admin+https%3A%2F%2Fwww.googleapis.com%2Fauth%2Fcompute+https%3A%2F%2Fwww.googleapis.com%2Fauth%2Faccounts.reauth&state=IaYVMEvYaOqeOX34DknrW3ZewAGyr0&prompt=consent&access_type=offline&code_challenge=-7v3NWASkog2uBCEuWzQnV7sF_xgpBbBVb2OB0UlpzI&code_challenge_method=S256\n",
      "\n",
      "Enter verification code: 4/1AX4XfWiYGkNURexYSPqWQyq-XhESIVrBOldwUzyiUSPBGXZa9a9uSL33nPc\n",
      "\n",
      "You are now logged in as [frimodke@mail.gvsu.edu].\n",
      "Your current project is [ga-capstone-341005].  You can change this setting by running:\n",
      "  $ gcloud config set project PROJECT_ID\n"
     ]
    }
   ],
   "source": [
    "PROJECT = 'ga-capstone-341005'\n",
    "!gcloud auth login --project {PROJECT}"
   ]
  },
  {
   "cell_type": "markdown",
   "metadata": {
    "id": "RLOyFM88pAnt"
   },
   "source": [
    "## Define Functions"
   ]
  },
  {
   "cell_type": "code",
   "execution_count": null,
   "metadata": {
    "colab": {
     "base_uri": "https://localhost:8080/"
    },
    "id": "Fz9Q4-EUHa4d",
    "outputId": "1500febc-fa0a-420d-c11f-4c3ca8b407f2"
   },
   "outputs": [
    {
     "name": "stdout",
     "output_type": "stream",
     "text": [
      "created key [414956a09b96dd4bf206bf107e454250cb1d34b8] of type [json] as [mykey.json] for [ga-capstone-341005@appspot.gserviceaccount.com]\n"
     ]
    }
   ],
   "source": [
    "KEY = 'mykey.json'\n",
    "SERVICE_ACCOUNT='ga-capstone-341005@appspot.gserviceaccount.com'\n",
    "\n",
    "!gcloud iam service-accounts keys create {KEY} --iam-account {SERVICE_ACCOUNT}"
   ]
  },
  {
   "cell_type": "code",
   "execution_count": null,
   "metadata": {
    "id": "T6ujnrnkHS5H"
   },
   "outputs": [],
   "source": [
    "# Function for importing files from GCS\n",
    "def import_gcs(filename):\n",
    "  with open('/tmp/downloaded_from_gcs.txt', 'wb') as f:\n",
    "    request = gcs_service.objects().get_media(bucket=bucketname,\n",
    "                                              object=filename)\n",
    "    media = MediaIoBaseDownload(f, request)\n",
    "    done = False\n",
    "    while not done:\n",
    "      # _ is a placeholder for a progress object that we ignore.\n",
    "      # (Our file is small, so we skip reporting progress.)\n",
    "      _, done = media.next_chunk()\n",
    "  print('Download complete')\n",
    "  return media\n",
    "\n",
    "\n",
    "# Function for exporting files to GCS\n",
    "def export_gcs(filename, subdir, **kwargs):\n",
    "  media = MediaFileUpload('/tmp/to_upload.txt', kwargs)\n",
    "\n",
    "  request = gcs_service.objects().insert(bucket=(bucketname+subdir), \n",
    "                                        name=filename,\n",
    "                                        media_body=media)\n",
    "\n",
    "  response = None\n",
    "  while response is None:\n",
    "    # _ is a placeholder for a progress object that we ignore.\n",
    "    # (Our file is small, so we skip reporting progress.)\n",
    "    _, response = request.next_chunk()\n",
    "  print('Upload complete')\n",
    "  return "
   ]
  },
  {
   "cell_type": "markdown",
   "metadata": {
    "id": "vYTK33iwhgtC"
   },
   "source": [
    "A test to determine if earth engine is configured correctly. Output should be dictionary"
   ]
  },
  {
   "cell_type": "code",
   "execution_count": null,
   "metadata": {
    "colab": {
     "base_uri": "https://localhost:8080/"
    },
    "id": "RU0z2wx5KG9P",
    "outputId": "f96f8e3e-6607-487c-93f3-e8b76925ffea"
   },
   "outputs": [
    {
     "name": "stdout",
     "output_type": "stream",
     "text": [
      "{'id': 'LANDSAT',\n",
      " 'name': 'projects/earthengine-public/assets/LANDSAT',\n",
      " 'type': 'FOLDER'}\n"
     ]
    }
   ],
   "source": [
    "from google.auth.transport.requests import AuthorizedSession\n",
    "from google.oauth2 import service_account\n",
    "\n",
    "credentials = service_account.Credentials.from_service_account_file(KEY)\n",
    "scoped_credentials = credentials.with_scopes(\n",
    "    ['https://www.googleapis.com/auth/cloud-platform'])\n",
    "\n",
    "session = AuthorizedSession(scoped_credentials)\n",
    "\n",
    "url = 'https://earthengine.googleapis.com/v1alpha/projects/earthengine-public/assets/LANDSAT'\n",
    "\n",
    "response = session.get(url)\n",
    "\n",
    "from pprint import pprint\n",
    "import json\n",
    "pprint(json.loads(response.content))"
   ]
  },
  {
   "cell_type": "code",
   "execution_count": null,
   "metadata": {
    "id": "vMAy9lQDKG_5"
   },
   "outputs": [],
   "source": [
    "from google.colab import drive\n",
    "drive.mount(‘/content/gdrive’)"
   ]
  },
  {
   "cell_type": "markdown",
   "metadata": {
    "id": "8pPbknwkifee"
   },
   "source": [
    " Create list of image tiles in area of interest (coordinates of a rectangle drawn in earth engine)"
   ]
  },
  {
   "cell_type": "code",
   "execution_count": null,
   "metadata": {
    "id": "xj1icQpdKHH7"
   },
   "outputs": [],
   "source": [
    "# bounding box for county\n",
    "\n",
    "coords =  ([[-106.48758981209929, 39.21331227125566],\n",
    "          [-106.48758981209929, 38.45917692072267],\n",
    "          [-105.83802316170866, 38.45917692072267],\n",
    "          [-105.83802316170866, 39.21331227125566]])\n",
    "\n",
    "\n",
    "project = 'projects/earthengine-public'\n",
    "asset_id = 'USDA/NAIP/DOQQ'\n",
    "name = '{}/assets/{}'.format(project, asset_id)\n",
    "url = 'https://earthengine.googleapis.com/v1alpha/{}:listImages?{}'.format(\n",
    "  name, urllib.parse.urlencode({\n",
    "    'startTime': '2019-01-01T00:00:00.000Z',\n",
    "    'endTime': '2020-12-31T00:00:00.000Z',\n",
    "    'region': '{\"type\":\"LineString\", \"coordinates\":' + str(coords) + '}',\n",
    "}))\n",
    "\n",
    "response = session.get(url)\n",
    "content = response.content\n",
    "\n",
    "tile_list = []\n",
    "\n",
    "metadata = {}\n",
    "\n",
    "for asset in json.loads(content)['images']:\n",
    "    id = asset['id']\n",
    "    tile_list.append(id)\n",
    "    metadata[id] = asset['bands']\n"
   ]
  },
  {
   "cell_type": "markdown",
   "metadata": {
    "id": "OLClWb7GiytD"
   },
   "source": [
    "Parameters, tile name for each image in the area of interest."
   ]
  },
  {
   "cell_type": "code",
   "execution_count": null,
   "metadata": {
    "colab": {
     "base_uri": "https://localhost:8080/"
    },
    "id": "owwzrDPATvVC",
    "outputId": "75e234a8-d630-4a2b-ef6a-9f7bfdb28a5c"
   },
   "outputs": [
    {
     "name": "stdout",
     "output_type": "stream",
     "text": [
      "USDA/NAIP/DOQQ/m_3810502_nw_13_060_20190922\n"
     ]
    },
    {
     "data": {
      "text/plain": [
       "{'affineTransform': {'scaleX': 0.6,\n",
       "  'scaleY': -0.6,\n",
       "  'translateX': 423966,\n",
       "  'translateY': 4317342},\n",
       " 'crsCode': 'EPSG:26913',\n",
       " 'dimensions': {'height': 12310, 'width': 9800}}"
      ]
     },
     "execution_count": 10,
     "metadata": {},
     "output_type": "execute_result"
    }
   ],
   "source": [
    "key =  tile_list[0]\n",
    "print(key)\n",
    "metadata[key][0]['grid']"
   ]
  },
  {
   "cell_type": "code",
   "execution_count": null,
   "metadata": {
    "id": "JAv3lHnjKHNN"
   },
   "outputs": [],
   "source": [
    "#print(tile_list)\n",
    "\n",
    "# create if else, if each in(gcs/output/files without .tif) pass else execute\n",
    "\n",
    "tile_list[7:]"
   ]
  },
  {
   "cell_type": "code",
   "execution_count": null,
   "metadata": {
    "id": "hOJdIJ2_KHPy"
   },
   "outputs": [],
   "source": [
    "aoi = ee.FeatureCollection('projects/ga-capstone-341005/assets/AOI_chaffee')\n",
    "def clip_export(img):\n",
    "  tile = ee.Image(img).select(['R', 'B', 'G', 'N']);\n",
    "\n",
    "  projection = tile.select('R').projection().getInfo();\n",
    "\n",
    "  masked = tile.clip(aoi)\n",
    "\n",
    "\n",
    "  task = ee.batch.Export.image.toCloudStorage(**{\n",
    "    'image': masked,\n",
    "    'description': \"naip collection for chaffee county, CO\",\n",
    "    'bucket': 'kendallfrimodig-earth-engine',\n",
    "    'fileNamePrefix': img,\n",
    "    'skipEmptyTiles': True,\n",
    "    'crs': projection['crs'],\n",
    "    'crsTransform': projection['transform'],\n",
    "    'fileFormat': 'GeoTIFF',\n",
    "    'formatOptions': {'cloudOptimized': True},\n",
    "    'maxPixels': 1e11\n",
    "  })\n",
    "  task.start()\n",
    "\n",
    "  while task.active():\n",
    "    print('Polling for task (id: {}).'.format(task.id))\n",
    "    time.sleep(5)\n",
    "\n",
    "  return"
   ]
  },
  {
   "cell_type": "code",
   "execution_count": null,
   "metadata": {
    "colab": {
     "base_uri": "https://localhost:8080/"
    },
    "id": "wD7I_wJku1Ue",
    "outputId": "7ad3de57-26d3-4d4b-f7b1-b7069f121a89"
   },
   "outputs": [],
   "source": [
    "for each in tile_list[25:]:\n",
    "  clip_export(each)\n",
    "\n",
    "  "
   ]
  },
  {
   "cell_type": "code",
   "execution_count": null,
   "metadata": {
    "colab": {
     "base_uri": "https://localhost:8080/"
    },
    "id": "fcxjP3oAu1Yo",
    "outputId": "5d86781f-d0f4-4529-f503-fa7cfd64d5d6"
   },
   "outputs": [
    {
     "data": {
      "text/plain": [
       "35"
      ]
     },
     "execution_count": 16,
     "metadata": {},
     "output_type": "execute_result"
    }
   ],
   "source": [
    "len(tile_list)"
   ]
  },
  {
   "cell_type": "markdown",
   "metadata": {
    "id": "QNwfD5AkKfTf"
   },
   "source": [
    "Method of Visualizing Earth Engine Objects in Python Client"
   ]
  },
  {
   "cell_type": "markdown",
   "metadata": {
    "id": "pm8_Y8H1IMMj"
   },
   "source": [
    "            # Import the Folium library.\n",
    "            import folium\n",
    "\n",
    "            # Define a method for displaying Earth Engine image tiles to folium map.\n",
    "            def add_ee_layer(self, ee_image_object, vis_params, name):\n",
    "              map_id_dict = ee.Image(ee_image_object).getMapId(vis_params)\n",
    "              folium.raster_layers.TileLayer(\n",
    "                tiles = map_id_dict['tile_fetcher'].url_format,\n",
    "                attr = 'Map Data &copy; <a href=\"https://earthengine.google.com/\">Google Earth Engine</a>',\n",
    "                name = name,\n",
    "                overlay = True,\n",
    "                control = True\n",
    "              ).add_to(self)\n",
    "\n",
    "            # Add EE drawing method to folium.\n",
    "            folium.Map.add_ee_layer = add_ee_layer\n",
    "\n",
    "            # Set visualization parameters.\n",
    "            #vis_params = {\n",
    "             # 'min': 0,\n",
    "             # 'max': 4000,\n",
    "             # 'palette': ['006633', 'E5FFCC', '662A00', 'D8D8D8', 'F5F5F5']}\n",
    "\n",
    "            # Create a folium map object.\n",
    "            my_map = folium.Map(location=[20, 0], zoom_start=3)\n",
    "\n",
    "            # Add the elevation model to the map object.\n",
    "            #my_map.add_ee_layer(dem.updateMask(dem.gt(0)), vis_params, 'DEM')\n",
    "\n",
    "\n",
    "            my_map.add_ee_layer(NAIP_n, vis_params, 'NAIP_natural')\n",
    "            # Add a layer control panel to the map.\n",
    "            my_map.add_child(folium.LayerControl())\n",
    "\n",
    "            # Display the map.\n",
    "            display(my_map)"
   ]
  },
  {
   "cell_type": "markdown",
   "metadata": {
    "id": "P1J7w5sIjCns"
   },
   "source": [
    "Takes images and outputs numpy array. Maxed out at 10,000 x 10,000 pixels for public earth engine assets, will try on assets from GCS"
   ]
  },
  {
   "cell_type": "markdown",
   "metadata": {
    "id": "_EZ2kBDRKHKV"
   },
   "source": [
    "\n",
    "        key =  tile_list[0]\n",
    "        asset_id = key\n",
    "        name = '{}/assets/{}'.format(project, asset_id)\n",
    "        url = 'https://earthengine.googleapis.com/v1alpha/{}:getPixels'.format(name)\n",
    "        body = json.dumps({\n",
    "            'fileFormat': 'NPY',\n",
    "            'bandIds': ['R', 'B', 'G', 'N'],\n",
    "            'grid': metadata[key][0]['grid']\n",
    "        })\n",
    "\n",
    "        pixels_response = session.post(url, body)\n",
    "        pixels_content = pixels_response.content\n",
    "\n",
    "        array = np.load(io.BytesIO(pixels_content), allow_pickle=True)\n",
    "        print('Shape: %s' % (array.shape,))\n",
    "        print('Data:')\n",
    "        print(array)\n",
    "\n"
   ]
  },
  {
   "cell_type": "code",
   "execution_count": null,
   "metadata": {},
   "outputs": [],
   "source": []
  }
 ],
 "metadata": {
  "accelerator": "GPU",
  "colab": {
   "collapsed_sections": [],
   "name": "ee-api-colab.ipynb",
   "provenance": []
  },
  "kernelspec": {
   "display_name": "Python 3 (ipykernel)",
   "language": "python",
   "name": "python3"
  },
  "language_info": {
   "codemirror_mode": {
    "name": "ipython",
    "version": 3
   },
   "file_extension": ".py",
   "mimetype": "text/x-python",
   "name": "python",
   "nbconvert_exporter": "python",
   "pygments_lexer": "ipython3",
   "version": "3.9.7"
  }
 },
 "nbformat": 4,
 "nbformat_minor": 4
}
